{
 "cells": [
  {
   "cell_type": "code",
   "execution_count": 1,
   "metadata": {
    "collapsed": true
   },
   "outputs": [],
   "source": [
    "import json"
   ]
  },
  {
   "cell_type": "code",
   "execution_count": 2,
   "metadata": {
    "collapsed": true
   },
   "outputs": [],
   "source": [
    "input = '''[\n",
    "    {\n",
    "    \"Movie\":\"Game of Thrones\",\n",
    "    \"Actor\":\"Peter Dinklage\",\n",
    "    \"Role\":\"Tyrion Lannister\"    \n",
    "    },\n",
    "    {\n",
    "    \"Movie\":\"Vikings\",\n",
    "    \"Actor\":\"Travis Fimmel\",\n",
    "    \"Role\":\"Ragnar Lothbrok\"  \n",
    "    },\n",
    "    {\n",
    "    \"Movie\":\"The last Kingdom\",\n",
    "    \"Actor\":{\n",
    "            \"Young Uhtred\":\"Tom Taylor\",\n",
    "            \"Not that young Uhtred\":\"Alexander Dreymon\"\n",
    "            },\n",
    "    \"Role\":\"Uhtred of Bebbanburg\"\n",
    "    }\n",
    "]'''"
   ]
  },
  {
   "cell_type": "code",
   "execution_count": 3,
   "metadata": {
    "collapsed": true
   },
   "outputs": [],
   "source": [
    "data_movies = json.loads(input)"
   ]
  },
  {
   "cell_type": "code",
   "execution_count": 4,
   "metadata": {},
   "outputs": [
    {
     "data": {
      "text/plain": [
       "list"
      ]
     },
     "execution_count": 4,
     "metadata": {},
     "output_type": "execute_result"
    }
   ],
   "source": [
    "type(data_movies)"
   ]
  },
  {
   "cell_type": "code",
   "execution_count": 5,
   "metadata": {},
   "outputs": [
    {
     "name": "stdout",
     "output_type": "stream",
     "text": [
      "[{u'Movie': u'Game of Thrones', u'Role': u'Tyrion Lannister', u'Actor': u'Peter Dinklage'}, {u'Movie': u'Vikings', u'Role': u'Ragnar Lothbrok', u'Actor': u'Travis Fimmel'}, {u'Movie': u'The last Kingdom', u'Role': u'Uhtred of Bebbanburg', u'Actor': {u'Young Uhtred': u'Tom Taylor', u'Not that young Uhtred': u'Alexander Dreymon'}}]\n"
     ]
    }
   ],
   "source": [
    "print data_movies"
   ]
  },
  {
   "cell_type": "code",
   "execution_count": 6,
   "metadata": {
    "collapsed": true
   },
   "outputs": [],
   "source": [
    "from pprint import pprint"
   ]
  },
  {
   "cell_type": "code",
   "execution_count": 8,
   "metadata": {},
   "outputs": [
    {
     "name": "stdout",
     "output_type": "stream",
     "text": [
      "[{u'Actor': u'Peter Dinklage',\n",
      "  u'Movie': u'Game of Thrones',\n",
      "  u'Role': u'Tyrion Lannister'},\n",
      " {u'Actor': u'Travis Fimmel',\n",
      "  u'Movie': u'Vikings',\n",
      "  u'Role': u'Ragnar Lothbrok'},\n",
      " {u'Actor': {u'Not that young Uhtred': u'Alexander Dreymon',\n",
      "             u'Young Uhtred': u'Tom Taylor'},\n",
      "  u'Movie': u'The last Kingdom',\n",
      "  u'Role': u'Uhtred of Bebbanburg'}]\n"
     ]
    }
   ],
   "source": [
    "pprint(data_movies)"
   ]
  },
  {
   "cell_type": "code",
   "execution_count": 39,
   "metadata": {},
   "outputs": [
    {
     "name": "stdout",
     "output_type": "stream",
     "text": [
      "Movie:  Game of Thrones\n",
      "Role:  Tyrion Lannister\n",
      "Actor:  Peter Dinklage \n",
      "\n",
      "Movie:  Vikings\n",
      "Role:  Ragnar Lothbrok\n",
      "Actor:  Travis Fimmel \n",
      "\n",
      "Movie:  The last Kingdom\n",
      "Role:  Uhtred of Bebbanburg\n",
      "Actor 1:  Tom Taylor\n",
      "Actor 2:  Alexander Dreymon\n"
     ]
    }
   ],
   "source": [
    "for movie in data_movies:\n",
    "            print 'Movie: ', movie['Movie']\n",
    "            print 'Role: ', movie['Role']\n",
    "            if type(movie['Actor'])== dict:\n",
    "                    print 'Actor 1: ', movie['Actor']['Young Uhtred']\n",
    "                    print 'Actor 2: ', movie['Actor']['Not that young Uhtred']\n",
    "            else:\n",
    "                print 'Actor: ', movie['Actor'], \"\\n\""
   ]
  }
 ],
 "metadata": {
  "kernelspec": {
   "display_name": "Python 2",
   "language": "python",
   "name": "python2"
  },
  "language_info": {
   "codemirror_mode": {
    "name": "ipython",
    "version": 2
   },
   "file_extension": ".py",
   "mimetype": "text/x-python",
   "name": "python",
   "nbconvert_exporter": "python",
   "pygments_lexer": "ipython2",
   "version": "2.7.13"
  }
 },
 "nbformat": 4,
 "nbformat_minor": 2
}
